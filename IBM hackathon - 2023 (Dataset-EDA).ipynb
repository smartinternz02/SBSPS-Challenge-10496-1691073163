{
 "cells": [
  {
   "cell_type": "markdown",
   "id": "9a724604",
   "metadata": {},
   "source": [
    "Dataset used for Agriculture_analysis of India:https://www.kaggle.com/datasets/sanamps/crop-production-in-india\n"
   ]
  },
  {
   "cell_type": "markdown",
   "id": "25d04e74",
   "metadata": {},
   "source": [
    "Dataset used for Employment_rate of India:https://data.worldbank.org/indicator/SL.AGR.EMPL.ZS?locations=IN"
   ]
  },
  {
   "cell_type": "markdown",
   "id": "2b282723",
   "metadata": {},
   "source": [
    "Firstly let me import pandas library for EDA and filling the missing values, as you could see below that i imported the Indian_Agriculture_crop_production (csv file) by assingning it to the df1 variable  "
   ]
  },
  {
   "cell_type": "code",
   "execution_count": 1,
   "id": "7d683b78",
   "metadata": {},
   "outputs": [
    {
     "data": {
      "text/html": [
       "<div>\n",
       "<style scoped>\n",
       "    .dataframe tbody tr th:only-of-type {\n",
       "        vertical-align: middle;\n",
       "    }\n",
       "\n",
       "    .dataframe tbody tr th {\n",
       "        vertical-align: top;\n",
       "    }\n",
       "\n",
       "    .dataframe thead th {\n",
       "        text-align: right;\n",
       "    }\n",
       "</style>\n",
       "<table border=\"1\" class=\"dataframe\">\n",
       "  <thead>\n",
       "    <tr style=\"text-align: right;\">\n",
       "      <th></th>\n",
       "      <th>State</th>\n",
       "      <th>District</th>\n",
       "      <th>Crop</th>\n",
       "      <th>Year</th>\n",
       "      <th>Season</th>\n",
       "      <th>Area</th>\n",
       "      <th>Area Units</th>\n",
       "      <th>Production</th>\n",
       "      <th>Production Units</th>\n",
       "      <th>Yield</th>\n",
       "    </tr>\n",
       "  </thead>\n",
       "  <tbody>\n",
       "    <tr>\n",
       "      <th>0</th>\n",
       "      <td>Andaman and Nicobar Islands</td>\n",
       "      <td>NICOBARS</td>\n",
       "      <td>Arecanut</td>\n",
       "      <td>2001-02</td>\n",
       "      <td>Kharif</td>\n",
       "      <td>1254.0</td>\n",
       "      <td>Hectare</td>\n",
       "      <td>2061.0</td>\n",
       "      <td>Tonnes</td>\n",
       "      <td>1.643541</td>\n",
       "    </tr>\n",
       "    <tr>\n",
       "      <th>1</th>\n",
       "      <td>Andaman and Nicobar Islands</td>\n",
       "      <td>NICOBARS</td>\n",
       "      <td>Arecanut</td>\n",
       "      <td>2002-03</td>\n",
       "      <td>Whole Year</td>\n",
       "      <td>1258.0</td>\n",
       "      <td>Hectare</td>\n",
       "      <td>2083.0</td>\n",
       "      <td>Tonnes</td>\n",
       "      <td>1.655803</td>\n",
       "    </tr>\n",
       "    <tr>\n",
       "      <th>2</th>\n",
       "      <td>Andaman and Nicobar Islands</td>\n",
       "      <td>NICOBARS</td>\n",
       "      <td>Arecanut</td>\n",
       "      <td>2003-04</td>\n",
       "      <td>Whole Year</td>\n",
       "      <td>1261.0</td>\n",
       "      <td>Hectare</td>\n",
       "      <td>1525.0</td>\n",
       "      <td>Tonnes</td>\n",
       "      <td>1.209358</td>\n",
       "    </tr>\n",
       "    <tr>\n",
       "      <th>3</th>\n",
       "      <td>Andaman and Nicobar Islands</td>\n",
       "      <td>NORTH AND MIDDLE ANDAMAN</td>\n",
       "      <td>Arecanut</td>\n",
       "      <td>2001-02</td>\n",
       "      <td>Kharif</td>\n",
       "      <td>3100.0</td>\n",
       "      <td>Hectare</td>\n",
       "      <td>5239.0</td>\n",
       "      <td>Tonnes</td>\n",
       "      <td>1.690000</td>\n",
       "    </tr>\n",
       "    <tr>\n",
       "      <th>4</th>\n",
       "      <td>Andaman and Nicobar Islands</td>\n",
       "      <td>SOUTH ANDAMANS</td>\n",
       "      <td>Arecanut</td>\n",
       "      <td>2002-03</td>\n",
       "      <td>Whole Year</td>\n",
       "      <td>3105.0</td>\n",
       "      <td>Hectare</td>\n",
       "      <td>5267.0</td>\n",
       "      <td>Tonnes</td>\n",
       "      <td>1.696296</td>\n",
       "    </tr>\n",
       "  </tbody>\n",
       "</table>\n",
       "</div>"
      ],
      "text/plain": [
       "                         State                  District      Crop     Year  \\\n",
       "0  Andaman and Nicobar Islands                  NICOBARS  Arecanut  2001-02   \n",
       "1  Andaman and Nicobar Islands                  NICOBARS  Arecanut  2002-03   \n",
       "2  Andaman and Nicobar Islands                  NICOBARS  Arecanut  2003-04   \n",
       "3  Andaman and Nicobar Islands  NORTH AND MIDDLE ANDAMAN  Arecanut  2001-02   \n",
       "4  Andaman and Nicobar Islands            SOUTH ANDAMANS  Arecanut  2002-03   \n",
       "\n",
       "       Season    Area Area Units  Production Production Units     Yield  \n",
       "0      Kharif  1254.0    Hectare      2061.0           Tonnes  1.643541  \n",
       "1  Whole Year  1258.0    Hectare      2083.0           Tonnes  1.655803  \n",
       "2  Whole Year  1261.0    Hectare      1525.0           Tonnes  1.209358  \n",
       "3      Kharif  3100.0    Hectare      5239.0           Tonnes  1.690000  \n",
       "4  Whole Year  3105.0    Hectare      5267.0           Tonnes  1.696296  "
      ]
     },
     "execution_count": 1,
     "metadata": {},
     "output_type": "execute_result"
    }
   ],
   "source": [
    "import pandas as pd\n",
    "df1 = pd.read_excel(\"Agriculture_India_1/Indian_Agriculture_Crop_Production(dirty-data).xlsx\")\n",
    "df1.head()"
   ]
  },
  {
   "cell_type": "markdown",
   "id": "03f74bef",
   "metadata": {},
   "source": [
    "Furtherly let me also import the data file which is an agriculture Employment_rate of India yearly, which i used as an reference dataset for the Employment_rate for India "
   ]
  },
  {
   "cell_type": "markdown",
   "id": "a8fdc729",
   "metadata": {},
   "source": [
    "Dataset reference link : "
   ]
  },
  {
   "cell_type": "markdown",
   "id": "a09ffe3d",
   "metadata": {},
   "source": [
    "https://api.worldbank.org/v2/en/indicator/SL.AGR.EMPL.ZS?downloadformat=csv"
   ]
  },
  {
   "cell_type": "markdown",
   "id": "b60e76ac",
   "metadata": {},
   "source": [
    "In the above link i used the 1st csv file as the reference dataset for the Employment_rate, which was an 'zip' file"
   ]
  },
  {
   "cell_type": "code",
   "execution_count": 2,
   "id": "da7ed90f",
   "metadata": {},
   "outputs": [
    {
     "data": {
      "text/html": [
       "<div>\n",
       "<style scoped>\n",
       "    .dataframe tbody tr th:only-of-type {\n",
       "        vertical-align: middle;\n",
       "    }\n",
       "\n",
       "    .dataframe tbody tr th {\n",
       "        vertical-align: top;\n",
       "    }\n",
       "\n",
       "    .dataframe thead th {\n",
       "        text-align: right;\n",
       "    }\n",
       "</style>\n",
       "<table border=\"1\" class=\"dataframe\">\n",
       "  <thead>\n",
       "    <tr style=\"text-align: right;\">\n",
       "      <th></th>\n",
       "      <th>Country Name</th>\n",
       "      <th>Country Code</th>\n",
       "      <th>Indicator Name</th>\n",
       "      <th>Indicator Code</th>\n",
       "      <th>1997</th>\n",
       "      <th>1998</th>\n",
       "      <th>1999</th>\n",
       "      <th>2000</th>\n",
       "      <th>2001</th>\n",
       "      <th>2002</th>\n",
       "      <th>...</th>\n",
       "      <th>2012</th>\n",
       "      <th>2013</th>\n",
       "      <th>2014</th>\n",
       "      <th>2015</th>\n",
       "      <th>2016</th>\n",
       "      <th>2017</th>\n",
       "      <th>2018</th>\n",
       "      <th>2019</th>\n",
       "      <th>2020</th>\n",
       "      <th>2021</th>\n",
       "    </tr>\n",
       "  </thead>\n",
       "  <tbody>\n",
       "    <tr>\n",
       "      <th>0</th>\n",
       "      <td>Aruba</td>\n",
       "      <td>ABW</td>\n",
       "      <td>Employment in agriculture (% of total employme...</td>\n",
       "      <td>SL.AGR.EMPL.ZS</td>\n",
       "      <td>NaN</td>\n",
       "      <td>NaN</td>\n",
       "      <td>NaN</td>\n",
       "      <td>NaN</td>\n",
       "      <td>NaN</td>\n",
       "      <td>NaN</td>\n",
       "      <td>...</td>\n",
       "      <td>NaN</td>\n",
       "      <td>NaN</td>\n",
       "      <td>NaN</td>\n",
       "      <td>NaN</td>\n",
       "      <td>NaN</td>\n",
       "      <td>NaN</td>\n",
       "      <td>NaN</td>\n",
       "      <td>NaN</td>\n",
       "      <td>NaN</td>\n",
       "      <td>NaN</td>\n",
       "    </tr>\n",
       "    <tr>\n",
       "      <th>1</th>\n",
       "      <td>Africa Eastern and Southern</td>\n",
       "      <td>AFE</td>\n",
       "      <td>Employment in agriculture (% of total employme...</td>\n",
       "      <td>SL.AGR.EMPL.ZS</td>\n",
       "      <td>65.019760</td>\n",
       "      <td>64.955504</td>\n",
       "      <td>64.795270</td>\n",
       "      <td>64.691640</td>\n",
       "      <td>64.630147</td>\n",
       "      <td>64.404074</td>\n",
       "      <td>...</td>\n",
       "      <td>59.550128</td>\n",
       "      <td>59.431113</td>\n",
       "      <td>58.598706</td>\n",
       "      <td>57.971761</td>\n",
       "      <td>57.53939</td>\n",
       "      <td>57.034653</td>\n",
       "      <td>56.497509</td>\n",
       "      <td>55.960579</td>\n",
       "      <td>56.530892</td>\n",
       "      <td>56.213783</td>\n",
       "    </tr>\n",
       "    <tr>\n",
       "      <th>2</th>\n",
       "      <td>Afghanistan</td>\n",
       "      <td>AFG</td>\n",
       "      <td>Employment in agriculture (% of total employme...</td>\n",
       "      <td>SL.AGR.EMPL.ZS</td>\n",
       "      <td>64.267360</td>\n",
       "      <td>64.614510</td>\n",
       "      <td>64.987190</td>\n",
       "      <td>65.471690</td>\n",
       "      <td>66.054870</td>\n",
       "      <td>64.087790</td>\n",
       "      <td>...</td>\n",
       "      <td>50.176820</td>\n",
       "      <td>47.640770</td>\n",
       "      <td>44.798540</td>\n",
       "      <td>44.651210</td>\n",
       "      <td>44.37642</td>\n",
       "      <td>43.989000</td>\n",
       "      <td>44.397120</td>\n",
       "      <td>44.512630</td>\n",
       "      <td>45.983410</td>\n",
       "      <td>NaN</td>\n",
       "    </tr>\n",
       "    <tr>\n",
       "      <th>3</th>\n",
       "      <td>Africa Western and Central</td>\n",
       "      <td>AFW</td>\n",
       "      <td>Employment in agriculture (% of total employme...</td>\n",
       "      <td>SL.AGR.EMPL.ZS</td>\n",
       "      <td>59.088167</td>\n",
       "      <td>58.595325</td>\n",
       "      <td>58.151071</td>\n",
       "      <td>57.523887</td>\n",
       "      <td>56.997332</td>\n",
       "      <td>56.502623</td>\n",
       "      <td>...</td>\n",
       "      <td>49.065101</td>\n",
       "      <td>48.415663</td>\n",
       "      <td>46.825039</td>\n",
       "      <td>45.629765</td>\n",
       "      <td>45.64358</td>\n",
       "      <td>45.179917</td>\n",
       "      <td>44.544132</td>\n",
       "      <td>44.313630</td>\n",
       "      <td>44.375664</td>\n",
       "      <td>43.869617</td>\n",
       "    </tr>\n",
       "    <tr>\n",
       "      <th>4</th>\n",
       "      <td>Angola</td>\n",
       "      <td>AGO</td>\n",
       "      <td>Employment in agriculture (% of total employme...</td>\n",
       "      <td>SL.AGR.EMPL.ZS</td>\n",
       "      <td>38.962050</td>\n",
       "      <td>38.657080</td>\n",
       "      <td>38.567960</td>\n",
       "      <td>38.241000</td>\n",
       "      <td>37.759670</td>\n",
       "      <td>36.570580</td>\n",
       "      <td>...</td>\n",
       "      <td>53.321230</td>\n",
       "      <td>55.516370</td>\n",
       "      <td>57.599660</td>\n",
       "      <td>57.963880</td>\n",
       "      <td>58.52023</td>\n",
       "      <td>58.834890</td>\n",
       "      <td>59.304860</td>\n",
       "      <td>59.334900</td>\n",
       "      <td>59.205560</td>\n",
       "      <td>58.657160</td>\n",
       "    </tr>\n",
       "  </tbody>\n",
       "</table>\n",
       "<p>5 rows × 29 columns</p>\n",
       "</div>"
      ],
      "text/plain": [
       "                  Country Name Country Code  \\\n",
       "0                        Aruba          ABW   \n",
       "1  Africa Eastern and Southern          AFE   \n",
       "2                  Afghanistan          AFG   \n",
       "3   Africa Western and Central          AFW   \n",
       "4                       Angola          AGO   \n",
       "\n",
       "                                      Indicator Name  Indicator Code  \\\n",
       "0  Employment in agriculture (% of total employme...  SL.AGR.EMPL.ZS   \n",
       "1  Employment in agriculture (% of total employme...  SL.AGR.EMPL.ZS   \n",
       "2  Employment in agriculture (% of total employme...  SL.AGR.EMPL.ZS   \n",
       "3  Employment in agriculture (% of total employme...  SL.AGR.EMPL.ZS   \n",
       "4  Employment in agriculture (% of total employme...  SL.AGR.EMPL.ZS   \n",
       "\n",
       "        1997       1998       1999       2000       2001       2002  ...  \\\n",
       "0        NaN        NaN        NaN        NaN        NaN        NaN  ...   \n",
       "1  65.019760  64.955504  64.795270  64.691640  64.630147  64.404074  ...   \n",
       "2  64.267360  64.614510  64.987190  65.471690  66.054870  64.087790  ...   \n",
       "3  59.088167  58.595325  58.151071  57.523887  56.997332  56.502623  ...   \n",
       "4  38.962050  38.657080  38.567960  38.241000  37.759670  36.570580  ...   \n",
       "\n",
       "        2012       2013       2014       2015      2016       2017       2018  \\\n",
       "0        NaN        NaN        NaN        NaN       NaN        NaN        NaN   \n",
       "1  59.550128  59.431113  58.598706  57.971761  57.53939  57.034653  56.497509   \n",
       "2  50.176820  47.640770  44.798540  44.651210  44.37642  43.989000  44.397120   \n",
       "3  49.065101  48.415663  46.825039  45.629765  45.64358  45.179917  44.544132   \n",
       "4  53.321230  55.516370  57.599660  57.963880  58.52023  58.834890  59.304860   \n",
       "\n",
       "        2019       2020       2021  \n",
       "0        NaN        NaN        NaN  \n",
       "1  55.960579  56.530892  56.213783  \n",
       "2  44.512630  45.983410        NaN  \n",
       "3  44.313630  44.375664  43.869617  \n",
       "4  59.334900  59.205560  58.657160  \n",
       "\n",
       "[5 rows x 29 columns]"
      ]
     },
     "execution_count": 2,
     "metadata": {},
     "output_type": "execute_result"
    }
   ],
   "source": [
    "data = pd.read_csv('Employment-Dataset/Employment_rate_of_agriculture_india(dirty-data).csv')\n",
    "data.head()"
   ]
  },
  {
   "cell_type": "markdown",
   "id": "d974ec0a",
   "metadata": {},
   "source": [
    "In the above data file i have removed some year by using excel and i kept the year which are only required for the reference"
   ]
  },
  {
   "cell_type": "markdown",
   "id": "701e89ac",
   "metadata": {},
   "source": [
    "Since as you there are some unwanted columns are present let me remove using drop function"
   ]
  },
  {
   "cell_type": "code",
   "execution_count": 3,
   "id": "62bb6e6d",
   "metadata": {},
   "outputs": [],
   "source": [
    "data = data.drop(['Country Code','Indicator Name','Indicator Code'],axis=1)"
   ]
  },
  {
   "cell_type": "code",
   "execution_count": 4,
   "id": "2730f5cf",
   "metadata": {},
   "outputs": [
    {
     "data": {
      "text/html": [
       "<div>\n",
       "<style scoped>\n",
       "    .dataframe tbody tr th:only-of-type {\n",
       "        vertical-align: middle;\n",
       "    }\n",
       "\n",
       "    .dataframe tbody tr th {\n",
       "        vertical-align: top;\n",
       "    }\n",
       "\n",
       "    .dataframe thead th {\n",
       "        text-align: right;\n",
       "    }\n",
       "</style>\n",
       "<table border=\"1\" class=\"dataframe\">\n",
       "  <thead>\n",
       "    <tr style=\"text-align: right;\">\n",
       "      <th></th>\n",
       "      <th>Country Name</th>\n",
       "      <th>1997</th>\n",
       "      <th>1998</th>\n",
       "      <th>1999</th>\n",
       "      <th>2000</th>\n",
       "      <th>2001</th>\n",
       "      <th>2002</th>\n",
       "      <th>2003</th>\n",
       "      <th>2004</th>\n",
       "      <th>2005</th>\n",
       "      <th>...</th>\n",
       "      <th>2012</th>\n",
       "      <th>2013</th>\n",
       "      <th>2014</th>\n",
       "      <th>2015</th>\n",
       "      <th>2016</th>\n",
       "      <th>2017</th>\n",
       "      <th>2018</th>\n",
       "      <th>2019</th>\n",
       "      <th>2020</th>\n",
       "      <th>2021</th>\n",
       "    </tr>\n",
       "  </thead>\n",
       "  <tbody>\n",
       "    <tr>\n",
       "      <th>0</th>\n",
       "      <td>Aruba</td>\n",
       "      <td>NaN</td>\n",
       "      <td>NaN</td>\n",
       "      <td>NaN</td>\n",
       "      <td>NaN</td>\n",
       "      <td>NaN</td>\n",
       "      <td>NaN</td>\n",
       "      <td>NaN</td>\n",
       "      <td>NaN</td>\n",
       "      <td>NaN</td>\n",
       "      <td>...</td>\n",
       "      <td>NaN</td>\n",
       "      <td>NaN</td>\n",
       "      <td>NaN</td>\n",
       "      <td>NaN</td>\n",
       "      <td>NaN</td>\n",
       "      <td>NaN</td>\n",
       "      <td>NaN</td>\n",
       "      <td>NaN</td>\n",
       "      <td>NaN</td>\n",
       "      <td>NaN</td>\n",
       "    </tr>\n",
       "    <tr>\n",
       "      <th>1</th>\n",
       "      <td>Africa Eastern and Southern</td>\n",
       "      <td>65.019760</td>\n",
       "      <td>64.955504</td>\n",
       "      <td>64.795270</td>\n",
       "      <td>64.691640</td>\n",
       "      <td>64.630147</td>\n",
       "      <td>64.404074</td>\n",
       "      <td>64.249594</td>\n",
       "      <td>64.022887</td>\n",
       "      <td>63.919564</td>\n",
       "      <td>...</td>\n",
       "      <td>59.550128</td>\n",
       "      <td>59.431113</td>\n",
       "      <td>58.598706</td>\n",
       "      <td>57.971761</td>\n",
       "      <td>57.53939</td>\n",
       "      <td>57.034653</td>\n",
       "      <td>56.497509</td>\n",
       "      <td>55.960579</td>\n",
       "      <td>56.530892</td>\n",
       "      <td>56.213783</td>\n",
       "    </tr>\n",
       "    <tr>\n",
       "      <th>2</th>\n",
       "      <td>Afghanistan</td>\n",
       "      <td>64.267360</td>\n",
       "      <td>64.614510</td>\n",
       "      <td>64.987190</td>\n",
       "      <td>65.471690</td>\n",
       "      <td>66.054870</td>\n",
       "      <td>64.087790</td>\n",
       "      <td>63.340150</td>\n",
       "      <td>63.051860</td>\n",
       "      <td>61.815350</td>\n",
       "      <td>...</td>\n",
       "      <td>50.176820</td>\n",
       "      <td>47.640770</td>\n",
       "      <td>44.798540</td>\n",
       "      <td>44.651210</td>\n",
       "      <td>44.37642</td>\n",
       "      <td>43.989000</td>\n",
       "      <td>44.397120</td>\n",
       "      <td>44.512630</td>\n",
       "      <td>45.983410</td>\n",
       "      <td>NaN</td>\n",
       "    </tr>\n",
       "    <tr>\n",
       "      <th>3</th>\n",
       "      <td>Africa Western and Central</td>\n",
       "      <td>59.088167</td>\n",
       "      <td>58.595325</td>\n",
       "      <td>58.151071</td>\n",
       "      <td>57.523887</td>\n",
       "      <td>56.997332</td>\n",
       "      <td>56.502623</td>\n",
       "      <td>55.805606</td>\n",
       "      <td>55.000015</td>\n",
       "      <td>54.420667</td>\n",
       "      <td>...</td>\n",
       "      <td>49.065101</td>\n",
       "      <td>48.415663</td>\n",
       "      <td>46.825039</td>\n",
       "      <td>45.629765</td>\n",
       "      <td>45.64358</td>\n",
       "      <td>45.179917</td>\n",
       "      <td>44.544132</td>\n",
       "      <td>44.313630</td>\n",
       "      <td>44.375664</td>\n",
       "      <td>43.869617</td>\n",
       "    </tr>\n",
       "    <tr>\n",
       "      <th>4</th>\n",
       "      <td>Angola</td>\n",
       "      <td>38.962050</td>\n",
       "      <td>38.657080</td>\n",
       "      <td>38.567960</td>\n",
       "      <td>38.241000</td>\n",
       "      <td>37.759670</td>\n",
       "      <td>36.570580</td>\n",
       "      <td>36.505830</td>\n",
       "      <td>36.166340</td>\n",
       "      <td>38.115510</td>\n",
       "      <td>...</td>\n",
       "      <td>53.321230</td>\n",
       "      <td>55.516370</td>\n",
       "      <td>57.599660</td>\n",
       "      <td>57.963880</td>\n",
       "      <td>58.52023</td>\n",
       "      <td>58.834890</td>\n",
       "      <td>59.304860</td>\n",
       "      <td>59.334900</td>\n",
       "      <td>59.205560</td>\n",
       "      <td>58.657160</td>\n",
       "    </tr>\n",
       "  </tbody>\n",
       "</table>\n",
       "<p>5 rows × 26 columns</p>\n",
       "</div>"
      ],
      "text/plain": [
       "                  Country Name       1997       1998       1999       2000  \\\n",
       "0                        Aruba        NaN        NaN        NaN        NaN   \n",
       "1  Africa Eastern and Southern  65.019760  64.955504  64.795270  64.691640   \n",
       "2                  Afghanistan  64.267360  64.614510  64.987190  65.471690   \n",
       "3   Africa Western and Central  59.088167  58.595325  58.151071  57.523887   \n",
       "4                       Angola  38.962050  38.657080  38.567960  38.241000   \n",
       "\n",
       "        2001       2002       2003       2004       2005  ...       2012  \\\n",
       "0        NaN        NaN        NaN        NaN        NaN  ...        NaN   \n",
       "1  64.630147  64.404074  64.249594  64.022887  63.919564  ...  59.550128   \n",
       "2  66.054870  64.087790  63.340150  63.051860  61.815350  ...  50.176820   \n",
       "3  56.997332  56.502623  55.805606  55.000015  54.420667  ...  49.065101   \n",
       "4  37.759670  36.570580  36.505830  36.166340  38.115510  ...  53.321230   \n",
       "\n",
       "        2013       2014       2015      2016       2017       2018       2019  \\\n",
       "0        NaN        NaN        NaN       NaN        NaN        NaN        NaN   \n",
       "1  59.431113  58.598706  57.971761  57.53939  57.034653  56.497509  55.960579   \n",
       "2  47.640770  44.798540  44.651210  44.37642  43.989000  44.397120  44.512630   \n",
       "3  48.415663  46.825039  45.629765  45.64358  45.179917  44.544132  44.313630   \n",
       "4  55.516370  57.599660  57.963880  58.52023  58.834890  59.304860  59.334900   \n",
       "\n",
       "        2020       2021  \n",
       "0        NaN        NaN  \n",
       "1  56.530892  56.213783  \n",
       "2  45.983410        NaN  \n",
       "3  44.375664  43.869617  \n",
       "4  59.205560  58.657160  \n",
       "\n",
       "[5 rows x 26 columns]"
      ]
     },
     "execution_count": 4,
     "metadata": {},
     "output_type": "execute_result"
    }
   ],
   "source": [
    "data.head()"
   ]
  },
  {
   "cell_type": "markdown",
   "id": "3b95e1e3",
   "metadata": {},
   "source": [
    "As you could see that i was able to genrate the index values from 0 to 265 using for loop, for furthter cleaning"
   ]
  },
  {
   "cell_type": "code",
   "execution_count": 5,
   "id": "9d760f8f",
   "metadata": {},
   "outputs": [],
   "source": [
    "df_dirty_data = data "
   ]
  },
  {
   "cell_type": "code",
   "execution_count": 6,
   "id": "7a3b9bc2",
   "metadata": {},
   "outputs": [
    {
     "data": {
      "text/plain": [
       "Country Name       India\n",
       "1997            61.08086\n",
       "1998            60.68718\n",
       "1999            60.10669\n",
       "2000            59.64473\n",
       "2001            59.08598\n",
       "2002            58.44382\n",
       "2003             57.7151\n",
       "2004            56.75876\n",
       "2005            55.99824\n",
       "2006            55.09983\n",
       "2007            54.17196\n",
       "2008             53.3906\n",
       "2009            52.47509\n",
       "2010            51.51537\n",
       "2011            49.25777\n",
       "2012            47.00424\n",
       "2013            46.42778\n",
       "2014             45.7835\n",
       "2015            45.15931\n",
       "2016            44.52136\n",
       "2017            43.93962\n",
       "2018            43.32882\n",
       "2019            41.38738\n",
       "2020            44.30447\n",
       "2021            43.95999\n",
       "Name: 109, dtype: object"
      ]
     },
     "execution_count": 6,
     "metadata": {},
     "output_type": "execute_result"
    }
   ],
   "source": [
    "data.loc[109]"
   ]
  },
  {
   "cell_type": "code",
   "execution_count": 7,
   "id": "d37a9080",
   "metadata": {},
   "outputs": [
    {
     "name": "stdout",
     "output_type": "stream",
     "text": [
      "0 ,1 ,2 ,3 ,4 ,5 ,6 ,7 ,8 ,9 ,10 ,11 ,12 ,13 ,14 ,15 ,16 ,17 ,18 ,19 ,20 ,21 ,22 ,23 ,24 ,25 ,26 ,27 ,28 ,29 ,30 ,31 ,32 ,33 ,34 ,35 ,36 ,37 ,38 ,39 ,40 ,41 ,42 ,43 ,44 ,45 ,46 ,47 ,48 ,49 ,50 ,51 ,52 ,53 ,54 ,55 ,56 ,57 ,58 ,59 ,60 ,61 ,62 ,63 ,64 ,65 ,66 ,67 ,68 ,69 ,70 ,71 ,72 ,73 ,74 ,75 ,76 ,77 ,78 ,79 ,80 ,81 ,82 ,83 ,84 ,85 ,86 ,87 ,88 ,89 ,90 ,91 ,92 ,93 ,94 ,95 ,96 ,97 ,98 ,99 ,100 ,101 ,102 ,103 ,104 ,105 ,106 ,107 ,108 ,109 ,110 ,111 ,112 ,113 ,114 ,115 ,116 ,117 ,118 ,119 ,120 ,121 ,122 ,123 ,124 ,125 ,126 ,127 ,128 ,129 ,130 ,131 ,132 ,133 ,134 ,135 ,136 ,137 ,138 ,139 ,140 ,141 ,142 ,143 ,144 ,145 ,146 ,147 ,148 ,149 ,150 ,151 ,152 ,153 ,154 ,155 ,156 ,157 ,158 ,159 ,160 ,161 ,162 ,163 ,164 ,165 ,166 ,167 ,168 ,169 ,170 ,171 ,172 ,173 ,174 ,175 ,176 ,177 ,178 ,179 ,180 ,181 ,182 ,183 ,184 ,185 ,186 ,187 ,188 ,189 ,190 ,191 ,192 ,193 ,194 ,195 ,196 ,197 ,198 ,199 ,200 ,201 ,202 ,203 ,204 ,205 ,206 ,207 ,208 ,209 ,210 ,211 ,212 ,213 ,214 ,215 ,216 ,217 ,218 ,219 ,220 ,221 ,222 ,223 ,224 ,225 ,226 ,227 ,228 ,229 ,230 ,231 ,232 ,233 ,234 ,235 ,236 ,237 ,238 ,239 ,240 ,241 ,242 ,243 ,244 ,245 ,246 ,247 ,248 ,249 ,250 ,251 ,252 ,253 ,254 ,255 ,256 ,257 ,258 ,259 ,260 ,261 ,262 ,263 ,264 ,265 ,"
     ]
    }
   ],
   "source": [
    "for i in range(0,266):\n",
    "    print(i,',',end='')"
   ]
  },
  {
   "cell_type": "markdown",
   "id": "7fd32140",
   "metadata": {},
   "source": [
    "By removing some unwanted values such as various countries , We do require only the Employment_rate of India so i removed the unwanted datas using excel"
   ]
  },
  {
   "cell_type": "markdown",
   "id": "bbb1a77f",
   "metadata": {},
   "source": [
    "Since i used drop to drop the values of index, As i know that the index value of india is '109' i omitted it"
   ]
  },
  {
   "cell_type": "code",
   "execution_count": 8,
   "id": "c697d49b",
   "metadata": {},
   "outputs": [],
   "source": [
    "data = data.drop([0 ,1 ,2 ,3 ,4 ,5 ,6 ,7 ,8 ,9 ,10 ,11 ,12 ,13 ,14 ,15 ,16 ,17 ,18 ,19 ,20 ,21 ,22 ,23 ,24 ,25 ,26 ,27 ,28 ,29 ,30 ,31 ,32 ,33 ,34 ,35 ,36 ,37 ,38 ,39 ,40 ,41 ,42 ,43 ,44 ,45 ,46 ,47 ,48 ,49 ,50 ,51 ,52 ,53 ,54 ,55 ,56 ,57 ,58 ,59 ,60 ,61 ,62 ,63 ,64 ,65 ,66 ,67 ,68 ,69 ,70 ,71 ,72 ,73 ,74 ,75 ,76 ,77 ,78 ,79 ,80 ,81 ,82 ,83 ,84 ,85 ,86 ,87 ,88 ,89 ,90 ,91 ,92 ,93 ,94 ,95 ,96 ,97 ,98 ,99 ,100 ,101 ,102 ,103 ,104 ,105 ,106 ,107 ,108 ,110 ,111 ,112 ,113 ,114 ,115 ,116 ,117 ,118 ,119 ,120 ,121 ,122 ,123 ,124 ,125 ,126 ,127 ,128 ,129 ,130 ,131 ,132 ,133 ,134 ,135 ,136 ,137 ,138 ,139 ,140 ,141 ,142 ,143 ,144 ,145 ,146 ,147 ,148 ,149 ,150 ,151 ,152 ,153 ,154 ,155 ,156 ,157 ,158 ,159 ,160 ,161 ,162 ,163 ,164 ,165 ,166 ,167 ,168 ,169 ,170 ,171 ,172 ,173 ,174 ,175 ,176 ,177 ,178 ,179 ,180 ,181 ,182 ,183 ,184 ,185 ,186 ,187 ,188 ,189 ,190 ,191 ,192 ,193 ,194 ,195 ,196 ,197 ,198 ,199 ,200 ,201 ,202 ,203 ,204 ,205 ,206 ,207 ,208 ,209 ,210 ,211 ,212 ,213 ,214 ,215 ,216 ,217 ,218 ,219 ,220 ,221 ,222 ,223 ,224 ,225 ,226 ,227 ,228 ,229 ,230 ,231 ,232 ,233 ,234 ,235 ,236 ,237 ,238 ,239 ,240 ,241 ,242 ,243 ,244 ,245 ,246 ,247 ,248 ,249 ,250 ,251 ,252 ,253 ,254 ,255 ,256 ,257 ,258 ,259 ,260 ,261 ,262 ,263 ,264 ,265])"
   ]
  },
  {
   "cell_type": "code",
   "execution_count": 9,
   "id": "3f9a0a92",
   "metadata": {},
   "outputs": [
    {
     "data": {
      "text/html": [
       "<div>\n",
       "<style scoped>\n",
       "    .dataframe tbody tr th:only-of-type {\n",
       "        vertical-align: middle;\n",
       "    }\n",
       "\n",
       "    .dataframe tbody tr th {\n",
       "        vertical-align: top;\n",
       "    }\n",
       "\n",
       "    .dataframe thead th {\n",
       "        text-align: right;\n",
       "    }\n",
       "</style>\n",
       "<table border=\"1\" class=\"dataframe\">\n",
       "  <thead>\n",
       "    <tr style=\"text-align: right;\">\n",
       "      <th></th>\n",
       "      <th>Country Name</th>\n",
       "      <th>1997</th>\n",
       "      <th>1998</th>\n",
       "      <th>1999</th>\n",
       "      <th>2000</th>\n",
       "      <th>2001</th>\n",
       "      <th>2002</th>\n",
       "      <th>2003</th>\n",
       "      <th>2004</th>\n",
       "      <th>2005</th>\n",
       "      <th>...</th>\n",
       "      <th>2012</th>\n",
       "      <th>2013</th>\n",
       "      <th>2014</th>\n",
       "      <th>2015</th>\n",
       "      <th>2016</th>\n",
       "      <th>2017</th>\n",
       "      <th>2018</th>\n",
       "      <th>2019</th>\n",
       "      <th>2020</th>\n",
       "      <th>2021</th>\n",
       "    </tr>\n",
       "  </thead>\n",
       "  <tbody>\n",
       "    <tr>\n",
       "      <th>109</th>\n",
       "      <td>India</td>\n",
       "      <td>61.08086</td>\n",
       "      <td>60.68718</td>\n",
       "      <td>60.10669</td>\n",
       "      <td>59.64473</td>\n",
       "      <td>59.08598</td>\n",
       "      <td>58.44382</td>\n",
       "      <td>57.7151</td>\n",
       "      <td>56.75876</td>\n",
       "      <td>55.99824</td>\n",
       "      <td>...</td>\n",
       "      <td>47.00424</td>\n",
       "      <td>46.42778</td>\n",
       "      <td>45.7835</td>\n",
       "      <td>45.15931</td>\n",
       "      <td>44.52136</td>\n",
       "      <td>43.93962</td>\n",
       "      <td>43.32882</td>\n",
       "      <td>41.38738</td>\n",
       "      <td>44.30447</td>\n",
       "      <td>43.95999</td>\n",
       "    </tr>\n",
       "  </tbody>\n",
       "</table>\n",
       "<p>1 rows × 26 columns</p>\n",
       "</div>"
      ],
      "text/plain": [
       "    Country Name      1997      1998      1999      2000      2001      2002  \\\n",
       "109        India  61.08086  60.68718  60.10669  59.64473  59.08598  58.44382   \n",
       "\n",
       "        2003      2004      2005  ...      2012      2013     2014      2015  \\\n",
       "109  57.7151  56.75876  55.99824  ...  47.00424  46.42778  45.7835  45.15931   \n",
       "\n",
       "         2016      2017      2018      2019      2020      2021  \n",
       "109  44.52136  43.93962  43.32882  41.38738  44.30447  43.95999  \n",
       "\n",
       "[1 rows x 26 columns]"
      ]
     },
     "execution_count": 9,
     "metadata": {},
     "output_type": "execute_result"
    }
   ],
   "source": [
    "data"
   ]
  },
  {
   "cell_type": "code",
   "execution_count": 10,
   "id": "81c19409",
   "metadata": {},
   "outputs": [
    {
     "data": {
      "text/plain": [
       "Country Name    0\n",
       "1997            0\n",
       "1998            0\n",
       "1999            0\n",
       "2000            0\n",
       "2001            0\n",
       "2002            0\n",
       "2003            0\n",
       "2004            0\n",
       "2005            0\n",
       "2006            0\n",
       "2007            0\n",
       "2008            0\n",
       "2009            0\n",
       "2010            0\n",
       "2011            0\n",
       "2012            0\n",
       "2013            0\n",
       "2014            0\n",
       "2015            0\n",
       "2016            0\n",
       "2017            0\n",
       "2018            0\n",
       "2019            0\n",
       "2020            0\n",
       "2021            0\n",
       "dtype: int64"
      ]
     },
     "execution_count": 10,
     "metadata": {},
     "output_type": "execute_result"
    }
   ],
   "source": [
    "data.isna().sum()"
   ]
  },
  {
   "cell_type": "markdown",
   "id": "265d0e74",
   "metadata": {},
   "source": [
    "Lastly you could see there are no null values present in the dataset let me save it as 'csv' file"
   ]
  },
  {
   "cell_type": "code",
   "execution_count": 11,
   "id": "8075e521",
   "metadata": {},
   "outputs": [],
   "source": [
    "data.to_csv('Employment_Rate_of_India.csv',index=False)"
   ]
  },
  {
   "cell_type": "markdown",
   "id": "bdad284a",
   "metadata": {},
   "source": [
    "As you could see that i converted the data file into the required Employment_rate of India and i saved it in the form of csv file"
   ]
  },
  {
   "cell_type": "markdown",
   "id": "4b2b7375",
   "metadata": {},
   "source": [
    "Nexly i modified the 'csv' data file by transposing rows into columns and removing the index value which was year and transformed it into a  'Excel' data file "
   ]
  },
  {
   "cell_type": "code",
   "execution_count": 12,
   "id": "b648d21a",
   "metadata": {
    "scrolled": true
   },
   "outputs": [
    {
     "data": {
      "text/html": [
       "<div>\n",
       "<style scoped>\n",
       "    .dataframe tbody tr th:only-of-type {\n",
       "        vertical-align: middle;\n",
       "    }\n",
       "\n",
       "    .dataframe tbody tr th {\n",
       "        vertical-align: top;\n",
       "    }\n",
       "\n",
       "    .dataframe thead th {\n",
       "        text-align: right;\n",
       "    }\n",
       "</style>\n",
       "<table border=\"1\" class=\"dataframe\">\n",
       "  <thead>\n",
       "    <tr style=\"text-align: right;\">\n",
       "      <th></th>\n",
       "      <th>Year</th>\n",
       "      <th>Employment_Rate</th>\n",
       "    </tr>\n",
       "  </thead>\n",
       "  <tbody>\n",
       "    <tr>\n",
       "      <th>0</th>\n",
       "      <td>1997</td>\n",
       "      <td>61.08086</td>\n",
       "    </tr>\n",
       "    <tr>\n",
       "      <th>1</th>\n",
       "      <td>1998</td>\n",
       "      <td>60.68718</td>\n",
       "    </tr>\n",
       "    <tr>\n",
       "      <th>2</th>\n",
       "      <td>1999</td>\n",
       "      <td>60.10669</td>\n",
       "    </tr>\n",
       "    <tr>\n",
       "      <th>3</th>\n",
       "      <td>2000</td>\n",
       "      <td>59.64473</td>\n",
       "    </tr>\n",
       "    <tr>\n",
       "      <th>4</th>\n",
       "      <td>2001</td>\n",
       "      <td>59.08598</td>\n",
       "    </tr>\n",
       "  </tbody>\n",
       "</table>\n",
       "</div>"
      ],
      "text/plain": [
       "   Year  Employment_Rate\n",
       "0  1997         61.08086\n",
       "1  1998         60.68718\n",
       "2  1999         60.10669\n",
       "3  2000         59.64473\n",
       "4  2001         59.08598"
      ]
     },
     "execution_count": 12,
     "metadata": {},
     "output_type": "execute_result"
    }
   ],
   "source": [
    "df2 = pd.read_excel(\"Employment-Dataset/Agriculture_Employment_Rate_Of_India.xlsx\")\n",
    "df2.head()"
   ]
  },
  {
   "cell_type": "code",
   "execution_count": 13,
   "id": "5445d3f4",
   "metadata": {},
   "outputs": [
    {
     "data": {
      "text/html": [
       "<div>\n",
       "<style scoped>\n",
       "    .dataframe tbody tr th:only-of-type {\n",
       "        vertical-align: middle;\n",
       "    }\n",
       "\n",
       "    .dataframe tbody tr th {\n",
       "        vertical-align: top;\n",
       "    }\n",
       "\n",
       "    .dataframe thead th {\n",
       "        text-align: right;\n",
       "    }\n",
       "</style>\n",
       "<table border=\"1\" class=\"dataframe\">\n",
       "  <thead>\n",
       "    <tr style=\"text-align: right;\">\n",
       "      <th></th>\n",
       "      <th>Country Name</th>\n",
       "      <th>1997</th>\n",
       "      <th>1998</th>\n",
       "      <th>1999</th>\n",
       "      <th>2000</th>\n",
       "      <th>2001</th>\n",
       "      <th>2002</th>\n",
       "      <th>2003</th>\n",
       "      <th>2004</th>\n",
       "      <th>2005</th>\n",
       "      <th>...</th>\n",
       "      <th>2012</th>\n",
       "      <th>2013</th>\n",
       "      <th>2014</th>\n",
       "      <th>2015</th>\n",
       "      <th>2016</th>\n",
       "      <th>2017</th>\n",
       "      <th>2018</th>\n",
       "      <th>2019</th>\n",
       "      <th>2020</th>\n",
       "      <th>2021</th>\n",
       "    </tr>\n",
       "  </thead>\n",
       "  <tbody>\n",
       "    <tr>\n",
       "      <th>0</th>\n",
       "      <td>Aruba</td>\n",
       "      <td>NaN</td>\n",
       "      <td>NaN</td>\n",
       "      <td>NaN</td>\n",
       "      <td>NaN</td>\n",
       "      <td>NaN</td>\n",
       "      <td>NaN</td>\n",
       "      <td>NaN</td>\n",
       "      <td>NaN</td>\n",
       "      <td>NaN</td>\n",
       "      <td>...</td>\n",
       "      <td>NaN</td>\n",
       "      <td>NaN</td>\n",
       "      <td>NaN</td>\n",
       "      <td>NaN</td>\n",
       "      <td>NaN</td>\n",
       "      <td>NaN</td>\n",
       "      <td>NaN</td>\n",
       "      <td>NaN</td>\n",
       "      <td>NaN</td>\n",
       "      <td>NaN</td>\n",
       "    </tr>\n",
       "    <tr>\n",
       "      <th>1</th>\n",
       "      <td>Africa Eastern and Southern</td>\n",
       "      <td>65.019760</td>\n",
       "      <td>64.955504</td>\n",
       "      <td>64.795270</td>\n",
       "      <td>64.691640</td>\n",
       "      <td>64.630147</td>\n",
       "      <td>64.404074</td>\n",
       "      <td>64.249594</td>\n",
       "      <td>64.022887</td>\n",
       "      <td>63.919564</td>\n",
       "      <td>...</td>\n",
       "      <td>59.550128</td>\n",
       "      <td>59.431113</td>\n",
       "      <td>58.598706</td>\n",
       "      <td>57.971761</td>\n",
       "      <td>57.53939</td>\n",
       "      <td>57.034653</td>\n",
       "      <td>56.497509</td>\n",
       "      <td>55.960579</td>\n",
       "      <td>56.530892</td>\n",
       "      <td>56.213783</td>\n",
       "    </tr>\n",
       "    <tr>\n",
       "      <th>2</th>\n",
       "      <td>Afghanistan</td>\n",
       "      <td>64.267360</td>\n",
       "      <td>64.614510</td>\n",
       "      <td>64.987190</td>\n",
       "      <td>65.471690</td>\n",
       "      <td>66.054870</td>\n",
       "      <td>64.087790</td>\n",
       "      <td>63.340150</td>\n",
       "      <td>63.051860</td>\n",
       "      <td>61.815350</td>\n",
       "      <td>...</td>\n",
       "      <td>50.176820</td>\n",
       "      <td>47.640770</td>\n",
       "      <td>44.798540</td>\n",
       "      <td>44.651210</td>\n",
       "      <td>44.37642</td>\n",
       "      <td>43.989000</td>\n",
       "      <td>44.397120</td>\n",
       "      <td>44.512630</td>\n",
       "      <td>45.983410</td>\n",
       "      <td>NaN</td>\n",
       "    </tr>\n",
       "    <tr>\n",
       "      <th>3</th>\n",
       "      <td>Africa Western and Central</td>\n",
       "      <td>59.088167</td>\n",
       "      <td>58.595325</td>\n",
       "      <td>58.151071</td>\n",
       "      <td>57.523887</td>\n",
       "      <td>56.997332</td>\n",
       "      <td>56.502623</td>\n",
       "      <td>55.805606</td>\n",
       "      <td>55.000015</td>\n",
       "      <td>54.420667</td>\n",
       "      <td>...</td>\n",
       "      <td>49.065101</td>\n",
       "      <td>48.415663</td>\n",
       "      <td>46.825039</td>\n",
       "      <td>45.629765</td>\n",
       "      <td>45.64358</td>\n",
       "      <td>45.179917</td>\n",
       "      <td>44.544132</td>\n",
       "      <td>44.313630</td>\n",
       "      <td>44.375664</td>\n",
       "      <td>43.869617</td>\n",
       "    </tr>\n",
       "    <tr>\n",
       "      <th>4</th>\n",
       "      <td>Angola</td>\n",
       "      <td>38.962050</td>\n",
       "      <td>38.657080</td>\n",
       "      <td>38.567960</td>\n",
       "      <td>38.241000</td>\n",
       "      <td>37.759670</td>\n",
       "      <td>36.570580</td>\n",
       "      <td>36.505830</td>\n",
       "      <td>36.166340</td>\n",
       "      <td>38.115510</td>\n",
       "      <td>...</td>\n",
       "      <td>53.321230</td>\n",
       "      <td>55.516370</td>\n",
       "      <td>57.599660</td>\n",
       "      <td>57.963880</td>\n",
       "      <td>58.52023</td>\n",
       "      <td>58.834890</td>\n",
       "      <td>59.304860</td>\n",
       "      <td>59.334900</td>\n",
       "      <td>59.205560</td>\n",
       "      <td>58.657160</td>\n",
       "    </tr>\n",
       "  </tbody>\n",
       "</table>\n",
       "<p>5 rows × 26 columns</p>\n",
       "</div>"
      ],
      "text/plain": [
       "                  Country Name       1997       1998       1999       2000  \\\n",
       "0                        Aruba        NaN        NaN        NaN        NaN   \n",
       "1  Africa Eastern and Southern  65.019760  64.955504  64.795270  64.691640   \n",
       "2                  Afghanistan  64.267360  64.614510  64.987190  65.471690   \n",
       "3   Africa Western and Central  59.088167  58.595325  58.151071  57.523887   \n",
       "4                       Angola  38.962050  38.657080  38.567960  38.241000   \n",
       "\n",
       "        2001       2002       2003       2004       2005  ...       2012  \\\n",
       "0        NaN        NaN        NaN        NaN        NaN  ...        NaN   \n",
       "1  64.630147  64.404074  64.249594  64.022887  63.919564  ...  59.550128   \n",
       "2  66.054870  64.087790  63.340150  63.051860  61.815350  ...  50.176820   \n",
       "3  56.997332  56.502623  55.805606  55.000015  54.420667  ...  49.065101   \n",
       "4  37.759670  36.570580  36.505830  36.166340  38.115510  ...  53.321230   \n",
       "\n",
       "        2013       2014       2015      2016       2017       2018       2019  \\\n",
       "0        NaN        NaN        NaN       NaN        NaN        NaN        NaN   \n",
       "1  59.431113  58.598706  57.971761  57.53939  57.034653  56.497509  55.960579   \n",
       "2  47.640770  44.798540  44.651210  44.37642  43.989000  44.397120  44.512630   \n",
       "3  48.415663  46.825039  45.629765  45.64358  45.179917  44.544132  44.313630   \n",
       "4  55.516370  57.599660  57.963880  58.52023  58.834890  59.304860  59.334900   \n",
       "\n",
       "        2020       2021  \n",
       "0        NaN        NaN  \n",
       "1  56.530892  56.213783  \n",
       "2  45.983410        NaN  \n",
       "3  44.375664  43.869617  \n",
       "4  59.205560  58.657160  \n",
       "\n",
       "[5 rows x 26 columns]"
      ]
     },
     "execution_count": 13,
     "metadata": {},
     "output_type": "execute_result"
    }
   ],
   "source": [
    "df_dirty_data.head()"
   ]
  },
  {
   "cell_type": "markdown",
   "id": "1b2038ad",
   "metadata": {},
   "source": [
    "So i was able to transform the above data into below required data, as you could see its the Employment_rate of India upto the year of 2021"
   ]
  },
  {
   "cell_type": "code",
   "execution_count": 14,
   "id": "e5d64ecb",
   "metadata": {},
   "outputs": [
    {
     "data": {
      "text/html": [
       "<div>\n",
       "<style scoped>\n",
       "    .dataframe tbody tr th:only-of-type {\n",
       "        vertical-align: middle;\n",
       "    }\n",
       "\n",
       "    .dataframe tbody tr th {\n",
       "        vertical-align: top;\n",
       "    }\n",
       "\n",
       "    .dataframe thead th {\n",
       "        text-align: right;\n",
       "    }\n",
       "</style>\n",
       "<table border=\"1\" class=\"dataframe\">\n",
       "  <thead>\n",
       "    <tr style=\"text-align: right;\">\n",
       "      <th></th>\n",
       "      <th>Year</th>\n",
       "      <th>Employment_Rate</th>\n",
       "    </tr>\n",
       "  </thead>\n",
       "  <tbody>\n",
       "    <tr>\n",
       "      <th>15</th>\n",
       "      <td>2012</td>\n",
       "      <td>47.00424</td>\n",
       "    </tr>\n",
       "    <tr>\n",
       "      <th>16</th>\n",
       "      <td>2013</td>\n",
       "      <td>46.42778</td>\n",
       "    </tr>\n",
       "    <tr>\n",
       "      <th>17</th>\n",
       "      <td>2014</td>\n",
       "      <td>45.78350</td>\n",
       "    </tr>\n",
       "    <tr>\n",
       "      <th>18</th>\n",
       "      <td>2015</td>\n",
       "      <td>45.15931</td>\n",
       "    </tr>\n",
       "    <tr>\n",
       "      <th>19</th>\n",
       "      <td>2016</td>\n",
       "      <td>44.52136</td>\n",
       "    </tr>\n",
       "    <tr>\n",
       "      <th>20</th>\n",
       "      <td>2017</td>\n",
       "      <td>43.93962</td>\n",
       "    </tr>\n",
       "    <tr>\n",
       "      <th>21</th>\n",
       "      <td>2018</td>\n",
       "      <td>43.32882</td>\n",
       "    </tr>\n",
       "    <tr>\n",
       "      <th>22</th>\n",
       "      <td>2019</td>\n",
       "      <td>41.38738</td>\n",
       "    </tr>\n",
       "    <tr>\n",
       "      <th>23</th>\n",
       "      <td>2020</td>\n",
       "      <td>44.30447</td>\n",
       "    </tr>\n",
       "    <tr>\n",
       "      <th>24</th>\n",
       "      <td>2021</td>\n",
       "      <td>43.95999</td>\n",
       "    </tr>\n",
       "  </tbody>\n",
       "</table>\n",
       "</div>"
      ],
      "text/plain": [
       "    Year  Employment_Rate\n",
       "15  2012         47.00424\n",
       "16  2013         46.42778\n",
       "17  2014         45.78350\n",
       "18  2015         45.15931\n",
       "19  2016         44.52136\n",
       "20  2017         43.93962\n",
       "21  2018         43.32882\n",
       "22  2019         41.38738\n",
       "23  2020         44.30447\n",
       "24  2021         43.95999"
      ]
     },
     "execution_count": 14,
     "metadata": {},
     "output_type": "execute_result"
    }
   ],
   "source": [
    "df2.tail(10)"
   ]
  },
  {
   "cell_type": "markdown",
   "id": "e81013f2",
   "metadata": {},
   "source": [
    "You may see that i got the data which i furtherly required to display the Employment_Rate of India (yearly)"
   ]
  },
  {
   "cell_type": "markdown",
   "id": "74533be3",
   "metadata": {},
   "source": [
    "So now let me import the main dataset \"Indian_Agriculture_Crop_Production.csv\""
   ]
  },
  {
   "cell_type": "code",
   "execution_count": 15,
   "id": "84d925c3",
   "metadata": {},
   "outputs": [
    {
     "data": {
      "text/html": [
       "<div>\n",
       "<style scoped>\n",
       "    .dataframe tbody tr th:only-of-type {\n",
       "        vertical-align: middle;\n",
       "    }\n",
       "\n",
       "    .dataframe tbody tr th {\n",
       "        vertical-align: top;\n",
       "    }\n",
       "\n",
       "    .dataframe thead th {\n",
       "        text-align: right;\n",
       "    }\n",
       "</style>\n",
       "<table border=\"1\" class=\"dataframe\">\n",
       "  <thead>\n",
       "    <tr style=\"text-align: right;\">\n",
       "      <th></th>\n",
       "      <th>State</th>\n",
       "      <th>District</th>\n",
       "      <th>Crop</th>\n",
       "      <th>Year</th>\n",
       "      <th>Season</th>\n",
       "      <th>Area</th>\n",
       "      <th>Area Units</th>\n",
       "      <th>Production</th>\n",
       "      <th>Production Units</th>\n",
       "      <th>Yield</th>\n",
       "    </tr>\n",
       "  </thead>\n",
       "  <tbody>\n",
       "    <tr>\n",
       "      <th>0</th>\n",
       "      <td>Andaman and Nicobar Islands</td>\n",
       "      <td>NICOBARS</td>\n",
       "      <td>Arecanut</td>\n",
       "      <td>2001-02</td>\n",
       "      <td>Kharif</td>\n",
       "      <td>1254.0</td>\n",
       "      <td>Hectare</td>\n",
       "      <td>2061.0</td>\n",
       "      <td>Tonnes</td>\n",
       "      <td>1.643541</td>\n",
       "    </tr>\n",
       "    <tr>\n",
       "      <th>1</th>\n",
       "      <td>Andaman and Nicobar Islands</td>\n",
       "      <td>NICOBARS</td>\n",
       "      <td>Arecanut</td>\n",
       "      <td>2002-03</td>\n",
       "      <td>Whole Year</td>\n",
       "      <td>1258.0</td>\n",
       "      <td>Hectare</td>\n",
       "      <td>2083.0</td>\n",
       "      <td>Tonnes</td>\n",
       "      <td>1.655803</td>\n",
       "    </tr>\n",
       "    <tr>\n",
       "      <th>2</th>\n",
       "      <td>Andaman and Nicobar Islands</td>\n",
       "      <td>NICOBARS</td>\n",
       "      <td>Arecanut</td>\n",
       "      <td>2003-04</td>\n",
       "      <td>Whole Year</td>\n",
       "      <td>1261.0</td>\n",
       "      <td>Hectare</td>\n",
       "      <td>1525.0</td>\n",
       "      <td>Tonnes</td>\n",
       "      <td>1.209358</td>\n",
       "    </tr>\n",
       "    <tr>\n",
       "      <th>3</th>\n",
       "      <td>Andaman and Nicobar Islands</td>\n",
       "      <td>NORTH AND MIDDLE ANDAMAN</td>\n",
       "      <td>Arecanut</td>\n",
       "      <td>2001-02</td>\n",
       "      <td>Kharif</td>\n",
       "      <td>3100.0</td>\n",
       "      <td>Hectare</td>\n",
       "      <td>5239.0</td>\n",
       "      <td>Tonnes</td>\n",
       "      <td>1.690000</td>\n",
       "    </tr>\n",
       "    <tr>\n",
       "      <th>4</th>\n",
       "      <td>Andaman and Nicobar Islands</td>\n",
       "      <td>SOUTH ANDAMANS</td>\n",
       "      <td>Arecanut</td>\n",
       "      <td>2002-03</td>\n",
       "      <td>Whole Year</td>\n",
       "      <td>3105.0</td>\n",
       "      <td>Hectare</td>\n",
       "      <td>5267.0</td>\n",
       "      <td>Tonnes</td>\n",
       "      <td>1.696296</td>\n",
       "    </tr>\n",
       "  </tbody>\n",
       "</table>\n",
       "</div>"
      ],
      "text/plain": [
       "                         State                  District      Crop     Year  \\\n",
       "0  Andaman and Nicobar Islands                  NICOBARS  Arecanut  2001-02   \n",
       "1  Andaman and Nicobar Islands                  NICOBARS  Arecanut  2002-03   \n",
       "2  Andaman and Nicobar Islands                  NICOBARS  Arecanut  2003-04   \n",
       "3  Andaman and Nicobar Islands  NORTH AND MIDDLE ANDAMAN  Arecanut  2001-02   \n",
       "4  Andaman and Nicobar Islands            SOUTH ANDAMANS  Arecanut  2002-03   \n",
       "\n",
       "       Season    Area Area Units  Production Production Units     Yield  \n",
       "0      Kharif  1254.0    Hectare      2061.0           Tonnes  1.643541  \n",
       "1  Whole Year  1258.0    Hectare      2083.0           Tonnes  1.655803  \n",
       "2  Whole Year  1261.0    Hectare      1525.0           Tonnes  1.209358  \n",
       "3      Kharif  3100.0    Hectare      5239.0           Tonnes  1.690000  \n",
       "4  Whole Year  3105.0    Hectare      5267.0           Tonnes  1.696296  "
      ]
     },
     "execution_count": 15,
     "metadata": {},
     "output_type": "execute_result"
    }
   ],
   "source": [
    "df1.head()"
   ]
  },
  {
   "cell_type": "markdown",
   "id": "fa227c92",
   "metadata": {},
   "source": [
    "Let me know what are the null values present in the dataset"
   ]
  },
  {
   "cell_type": "code",
   "execution_count": 16,
   "id": "6f8fdaae",
   "metadata": {},
   "outputs": [
    {
     "data": {
      "text/plain": [
       "State                  0\n",
       "District               0\n",
       "Crop                  32\n",
       "Year                   0\n",
       "Season                 1\n",
       "Area                  33\n",
       "Area Units             0\n",
       "Production          4993\n",
       "Production Units       0\n",
       "Yield                 33\n",
       "dtype: int64"
      ]
     },
     "execution_count": 16,
     "metadata": {},
     "output_type": "execute_result"
    }
   ],
   "source": [
    "df1.isna().sum()"
   ]
  },
  {
   "cell_type": "markdown",
   "id": "849d3786",
   "metadata": {},
   "source": [
    "As you could see there are more than 4000 null values in production"
   ]
  },
  {
   "cell_type": "markdown",
   "id": "d073c640",
   "metadata": {},
   "source": [
    "Now i import numpy module for filling up the null values present in the main dataset"
   ]
  },
  {
   "cell_type": "code",
   "execution_count": 17,
   "id": "221e37e4",
   "metadata": {},
   "outputs": [],
   "source": [
    "import numpy as np"
   ]
  },
  {
   "cell_type": "markdown",
   "id": "bbbde107",
   "metadata": {},
   "source": [
    "Also i do need to know about the data description so let me use describe funtion for better understanding"
   ]
  },
  {
   "cell_type": "code",
   "execution_count": 18,
   "id": "8a6212ac",
   "metadata": {},
   "outputs": [
    {
     "data": {
      "text/html": [
       "<div>\n",
       "<style scoped>\n",
       "    .dataframe tbody tr th:only-of-type {\n",
       "        vertical-align: middle;\n",
       "    }\n",
       "\n",
       "    .dataframe tbody tr th {\n",
       "        vertical-align: top;\n",
       "    }\n",
       "\n",
       "    .dataframe thead th {\n",
       "        text-align: right;\n",
       "    }\n",
       "</style>\n",
       "<table border=\"1\" class=\"dataframe\">\n",
       "  <thead>\n",
       "    <tr style=\"text-align: right;\">\n",
       "      <th></th>\n",
       "      <th>Area</th>\n",
       "      <th>Production</th>\n",
       "      <th>Yield</th>\n",
       "    </tr>\n",
       "  </thead>\n",
       "  <tbody>\n",
       "    <tr>\n",
       "      <th>count</th>\n",
       "      <td>3.453740e+05</td>\n",
       "      <td>3.404140e+05</td>\n",
       "      <td>345374.000000</td>\n",
       "    </tr>\n",
       "    <tr>\n",
       "      <th>mean</th>\n",
       "      <td>1.167019e+04</td>\n",
       "      <td>9.583711e+05</td>\n",
       "      <td>79.407569</td>\n",
       "    </tr>\n",
       "    <tr>\n",
       "      <th>std</th>\n",
       "      <td>4.583843e+04</td>\n",
       "      <td>2.152986e+07</td>\n",
       "      <td>916.628744</td>\n",
       "    </tr>\n",
       "    <tr>\n",
       "      <th>min</th>\n",
       "      <td>4.000000e-03</td>\n",
       "      <td>0.000000e+00</td>\n",
       "      <td>0.000000</td>\n",
       "    </tr>\n",
       "    <tr>\n",
       "      <th>25%</th>\n",
       "      <td>7.400000e+01</td>\n",
       "      <td>8.700000e+01</td>\n",
       "      <td>0.546742</td>\n",
       "    </tr>\n",
       "    <tr>\n",
       "      <th>50%</th>\n",
       "      <td>5.320000e+02</td>\n",
       "      <td>7.170000e+02</td>\n",
       "      <td>1.000000</td>\n",
       "    </tr>\n",
       "    <tr>\n",
       "      <th>75%</th>\n",
       "      <td>4.110000e+03</td>\n",
       "      <td>7.176000e+03</td>\n",
       "      <td>2.467080</td>\n",
       "    </tr>\n",
       "    <tr>\n",
       "      <th>max</th>\n",
       "      <td>8.580100e+06</td>\n",
       "      <td>1.597800e+09</td>\n",
       "      <td>43958.333333</td>\n",
       "    </tr>\n",
       "  </tbody>\n",
       "</table>\n",
       "</div>"
      ],
      "text/plain": [
       "               Area    Production          Yield\n",
       "count  3.453740e+05  3.404140e+05  345374.000000\n",
       "mean   1.167019e+04  9.583711e+05      79.407569\n",
       "std    4.583843e+04  2.152986e+07     916.628744\n",
       "min    4.000000e-03  0.000000e+00       0.000000\n",
       "25%    7.400000e+01  8.700000e+01       0.546742\n",
       "50%    5.320000e+02  7.170000e+02       1.000000\n",
       "75%    4.110000e+03  7.176000e+03       2.467080\n",
       "max    8.580100e+06  1.597800e+09   43958.333333"
      ]
     },
     "execution_count": 18,
     "metadata": {},
     "output_type": "execute_result"
    }
   ],
   "source": [
    "df1.describe()"
   ]
  },
  {
   "cell_type": "markdown",
   "id": "17aa17d1",
   "metadata": {},
   "source": [
    "By the above values i was able to know that the mean is irrelevant to the dataset so let me use median insted in all the required fields"
   ]
  },
  {
   "cell_type": "code",
   "execution_count": 19,
   "id": "1ec0bab7",
   "metadata": {},
   "outputs": [
    {
     "data": {
      "text/plain": [
       "717.0"
      ]
     },
     "execution_count": 19,
     "metadata": {},
     "output_type": "execute_result"
    }
   ],
   "source": [
    "production_median = df1.Production.median()\n",
    "production_median"
   ]
  },
  {
   "cell_type": "code",
   "execution_count": 20,
   "id": "a5964839",
   "metadata": {},
   "outputs": [
    {
     "data": {
      "text/plain": [
       "532.0"
      ]
     },
     "execution_count": 20,
     "metadata": {},
     "output_type": "execute_result"
    }
   ],
   "source": [
    "area_median = df1.Area.median()\n",
    "area_median"
   ]
  },
  {
   "cell_type": "code",
   "execution_count": 21,
   "id": "8b5fe708",
   "metadata": {},
   "outputs": [
    {
     "data": {
      "text/plain": [
       "1.0"
      ]
     },
     "execution_count": 21,
     "metadata": {},
     "output_type": "execute_result"
    }
   ],
   "source": [
    "yield_median = df1.Yield.median()\n",
    "yield_median"
   ]
  },
  {
   "cell_type": "markdown",
   "id": "f285dd04",
   "metadata": {},
   "source": [
    "Now let me replace all the null values one by one for each fileds"
   ]
  },
  {
   "cell_type": "code",
   "execution_count": 22,
   "id": "cfed454e",
   "metadata": {},
   "outputs": [],
   "source": [
    "df1[\"Area\"] = df1.Area.replace(np.NaN,532)"
   ]
  },
  {
   "cell_type": "code",
   "execution_count": 23,
   "id": "0758c446",
   "metadata": {},
   "outputs": [],
   "source": [
    "df1[\"Yield\"] = df1.Yield.replace(np.NaN,1)"
   ]
  },
  {
   "cell_type": "code",
   "execution_count": 24,
   "id": "8b119b2a",
   "metadata": {},
   "outputs": [],
   "source": [
    "df1[\"Production\"] = df1.Production.replace(np.NaN,717.0)"
   ]
  },
  {
   "cell_type": "markdown",
   "id": "fe34f2e1",
   "metadata": {},
   "source": [
    "Therefore in India Rice was the major crop produced among the world, thus i used 'Rice' in empty crop fields and replaced the null values with Rice"
   ]
  },
  {
   "cell_type": "code",
   "execution_count": 25,
   "id": "266bfd40",
   "metadata": {},
   "outputs": [],
   "source": [
    "df1[\"Crop\"] = df1.Crop.replace(np.NaN,\"Rice\")"
   ]
  },
  {
   "cell_type": "markdown",
   "id": "b47a8594",
   "metadata": {},
   "source": [
    "In addition to that i would like to map the year accordingly to merge two datasets df1 and df2,the code as follows"
   ]
  },
  {
   "cell_type": "code",
   "execution_count": 26,
   "id": "5ab8abbe",
   "metadata": {},
   "outputs": [],
   "source": [
    "new_data = { '1997-98':1997,\n",
    "           '1998-99':1998,\n",
    "           '1999-00':1999,\n",
    "           '2000-01':2000,\n",
    "           '2001-02':2001,\n",
    "           '2002-03':2002,\n",
    "           '2003-04':2003,\n",
    "           '2004-05':2004,\n",
    "           '2005-06':2005,\n",
    "           '2006-07':2006,\n",
    "           '2007-08':2007,\n",
    "           '2008-09':2008,\n",
    "           '2009-10':2009,\n",
    "           '2010-11':2010,\n",
    "           '2011-12':2011,\n",
    "           '2012-13':2012,\n",
    "           '2013-14':2013,\n",
    "           '2014-15':2014,\n",
    "           '2015-16':2015,\n",
    "           '2016-17':2016,\n",
    "           '2017-18':2017,\n",
    "           '2018-19':2018,\n",
    "           '2019-20':2019,\n",
    "           '2020-21':2020}\n",
    " \n",
    "df1[\"Year\"] = df1[\"Year\"].map(new_data)"
   ]
  },
  {
   "cell_type": "code",
   "execution_count": 27,
   "id": "0849f95a",
   "metadata": {},
   "outputs": [
    {
     "data": {
      "text/html": [
       "<div>\n",
       "<style scoped>\n",
       "    .dataframe tbody tr th:only-of-type {\n",
       "        vertical-align: middle;\n",
       "    }\n",
       "\n",
       "    .dataframe tbody tr th {\n",
       "        vertical-align: top;\n",
       "    }\n",
       "\n",
       "    .dataframe thead th {\n",
       "        text-align: right;\n",
       "    }\n",
       "</style>\n",
       "<table border=\"1\" class=\"dataframe\">\n",
       "  <thead>\n",
       "    <tr style=\"text-align: right;\">\n",
       "      <th></th>\n",
       "      <th>State</th>\n",
       "      <th>District</th>\n",
       "      <th>Crop</th>\n",
       "      <th>Year</th>\n",
       "      <th>Season</th>\n",
       "      <th>Area</th>\n",
       "      <th>Area Units</th>\n",
       "      <th>Production</th>\n",
       "      <th>Production Units</th>\n",
       "      <th>Yield</th>\n",
       "    </tr>\n",
       "  </thead>\n",
       "  <tbody>\n",
       "    <tr>\n",
       "      <th>0</th>\n",
       "      <td>Andaman and Nicobar Islands</td>\n",
       "      <td>NICOBARS</td>\n",
       "      <td>Arecanut</td>\n",
       "      <td>2001</td>\n",
       "      <td>Kharif</td>\n",
       "      <td>1254.0</td>\n",
       "      <td>Hectare</td>\n",
       "      <td>2061.0</td>\n",
       "      <td>Tonnes</td>\n",
       "      <td>1.643541</td>\n",
       "    </tr>\n",
       "    <tr>\n",
       "      <th>1</th>\n",
       "      <td>Andaman and Nicobar Islands</td>\n",
       "      <td>NICOBARS</td>\n",
       "      <td>Arecanut</td>\n",
       "      <td>2002</td>\n",
       "      <td>Whole Year</td>\n",
       "      <td>1258.0</td>\n",
       "      <td>Hectare</td>\n",
       "      <td>2083.0</td>\n",
       "      <td>Tonnes</td>\n",
       "      <td>1.655803</td>\n",
       "    </tr>\n",
       "    <tr>\n",
       "      <th>2</th>\n",
       "      <td>Andaman and Nicobar Islands</td>\n",
       "      <td>NICOBARS</td>\n",
       "      <td>Arecanut</td>\n",
       "      <td>2003</td>\n",
       "      <td>Whole Year</td>\n",
       "      <td>1261.0</td>\n",
       "      <td>Hectare</td>\n",
       "      <td>1525.0</td>\n",
       "      <td>Tonnes</td>\n",
       "      <td>1.209358</td>\n",
       "    </tr>\n",
       "    <tr>\n",
       "      <th>3</th>\n",
       "      <td>Andaman and Nicobar Islands</td>\n",
       "      <td>NORTH AND MIDDLE ANDAMAN</td>\n",
       "      <td>Arecanut</td>\n",
       "      <td>2001</td>\n",
       "      <td>Kharif</td>\n",
       "      <td>3100.0</td>\n",
       "      <td>Hectare</td>\n",
       "      <td>5239.0</td>\n",
       "      <td>Tonnes</td>\n",
       "      <td>1.690000</td>\n",
       "    </tr>\n",
       "    <tr>\n",
       "      <th>4</th>\n",
       "      <td>Andaman and Nicobar Islands</td>\n",
       "      <td>SOUTH ANDAMANS</td>\n",
       "      <td>Arecanut</td>\n",
       "      <td>2002</td>\n",
       "      <td>Whole Year</td>\n",
       "      <td>3105.0</td>\n",
       "      <td>Hectare</td>\n",
       "      <td>5267.0</td>\n",
       "      <td>Tonnes</td>\n",
       "      <td>1.696296</td>\n",
       "    </tr>\n",
       "  </tbody>\n",
       "</table>\n",
       "</div>"
      ],
      "text/plain": [
       "                         State                  District      Crop  Year  \\\n",
       "0  Andaman and Nicobar Islands                  NICOBARS  Arecanut  2001   \n",
       "1  Andaman and Nicobar Islands                  NICOBARS  Arecanut  2002   \n",
       "2  Andaman and Nicobar Islands                  NICOBARS  Arecanut  2003   \n",
       "3  Andaman and Nicobar Islands  NORTH AND MIDDLE ANDAMAN  Arecanut  2001   \n",
       "4  Andaman and Nicobar Islands            SOUTH ANDAMANS  Arecanut  2002   \n",
       "\n",
       "       Season    Area Area Units  Production Production Units     Yield  \n",
       "0      Kharif  1254.0    Hectare      2061.0           Tonnes  1.643541  \n",
       "1  Whole Year  1258.0    Hectare      2083.0           Tonnes  1.655803  \n",
       "2  Whole Year  1261.0    Hectare      1525.0           Tonnes  1.209358  \n",
       "3      Kharif  3100.0    Hectare      5239.0           Tonnes  1.690000  \n",
       "4  Whole Year  3105.0    Hectare      5267.0           Tonnes  1.696296  "
      ]
     },
     "execution_count": 27,
     "metadata": {},
     "output_type": "execute_result"
    }
   ],
   "source": [
    "df1.head()"
   ]
  },
  {
   "cell_type": "markdown",
   "id": "c53bfd47",
   "metadata": {},
   "source": [
    "You could see in the above dataset the year column has been changed accordingly  "
   ]
  },
  {
   "cell_type": "markdown",
   "id": "22382a7d",
   "metadata": {},
   "source": [
    "Now along with it let me also remove the outliers furtherly for better dataset"
   ]
  },
  {
   "cell_type": "code",
   "execution_count": 28,
   "id": "aecd7119",
   "metadata": {},
   "outputs": [],
   "source": [
    "shape1 = df1.shape"
   ]
  },
  {
   "cell_type": "code",
   "execution_count": 29,
   "id": "8ff5dcbd",
   "metadata": {},
   "outputs": [],
   "source": [
    "production_quantile_max = df1.Production.quantile(0.984)\n",
    "yield_quantile_max = df1.Yield.quantile(0.989)\n",
    "area_quantile_max = df1.Area.quantile(0.99)"
   ]
  },
  {
   "cell_type": "code",
   "execution_count": 30,
   "id": "df86f52a",
   "metadata": {},
   "outputs": [
    {
     "name": "stdout",
     "output_type": "stream",
     "text": [
      "Production:803438.9840000134\n",
      "Yield:98.57235899077216\n",
      "Area:188415.04000000004\n"
     ]
    }
   ],
   "source": [
    "print('Production:'+str(production_quantile_max))\n",
    "print('Yield:'+str(yield_quantile_max))\n",
    "print('Area:'+str(area_quantile_max))"
   ]
  },
  {
   "cell_type": "markdown",
   "id": "3dfbdf7e",
   "metadata": {},
   "source": [
    "I removed datas if the values are above the mentioned values it will remove the datas for the betterment of dataset?"
   ]
  },
  {
   "cell_type": "code",
   "execution_count": 31,
   "id": "229d039f",
   "metadata": {},
   "outputs": [],
   "source": [
    "df1 = df1[(df1.Production <= production_quantile_max) & (df1.Yield <= yield_quantile_max) * (df1.Area <= area_quantile_max )]"
   ]
  },
  {
   "cell_type": "code",
   "execution_count": 32,
   "id": "bdfc7b07",
   "metadata": {},
   "outputs": [],
   "source": [
    "production_quantile_min = df1.Production.quantile(0.01)\n",
    "yield_quantile_min = df1.Yield.quantile(0.019)\n",
    "area_quantile_min = df1.Area.quantile(0.01)"
   ]
  },
  {
   "cell_type": "code",
   "execution_count": 33,
   "id": "daa52cc9",
   "metadata": {},
   "outputs": [
    {
     "name": "stdout",
     "output_type": "stream",
     "text": [
      "Production:1.0\n",
      "Yield:0.02287870018275752\n",
      "Area:1.0\n"
     ]
    }
   ],
   "source": [
    "print('Production:'+str(production_quantile_min))\n",
    "print('Yield:'+str(yield_quantile_min))\n",
    "print('Area:'+str(area_quantile_min))"
   ]
  },
  {
   "cell_type": "markdown",
   "id": "a372cf25",
   "metadata": {},
   "source": [
    "I removed datas if the values are below the mentioned values it will remove the datas for the betterment of dataset"
   ]
  },
  {
   "cell_type": "code",
   "execution_count": 34,
   "id": "012637f0",
   "metadata": {},
   "outputs": [],
   "source": [
    "df1 = df1[(df1.Production >= production_quantile_min) & (df1.Yield >= yield_quantile_min) * (df1.Area >= area_quantile_min )]"
   ]
  },
  {
   "cell_type": "markdown",
   "id": "dd254dd9",
   "metadata": {},
   "source": [
    " Let me know how many datas have been removed"
   ]
  },
  {
   "cell_type": "code",
   "execution_count": 35,
   "id": "d1efe11d",
   "metadata": {},
   "outputs": [],
   "source": [
    "shape2 = df1.shape"
   ]
  },
  {
   "cell_type": "code",
   "execution_count": 36,
   "id": "4af89679",
   "metadata": {},
   "outputs": [
    {
     "name": "stdout",
     "output_type": "stream",
     "text": [
      "Original_dataset: (345407, 10)\n",
      "Required_dataset: (329142, 10)\n"
     ]
    }
   ],
   "source": [
    "print('Original_dataset:',shape1)\n",
    "print('Required_dataset:',shape2)"
   ]
  },
  {
   "cell_type": "code",
   "execution_count": 37,
   "id": "310191ab",
   "metadata": {},
   "outputs": [
    {
     "name": "stdout",
     "output_type": "stream",
     "text": [
      "Datas_removed: 10991\n"
     ]
    }
   ],
   "source": [
    "result = 345407-334416\n",
    "print('Datas_removed:',result)"
   ]
  },
  {
   "cell_type": "code",
   "execution_count": 38,
   "id": "b41042bd",
   "metadata": {},
   "outputs": [
    {
     "data": {
      "text/plain": [
       "State               0\n",
       "District            0\n",
       "Crop                0\n",
       "Year                0\n",
       "Season              1\n",
       "Area                0\n",
       "Area Units          0\n",
       "Production          0\n",
       "Production Units    0\n",
       "Yield               0\n",
       "dtype: int64"
      ]
     },
     "execution_count": 38,
     "metadata": {},
     "output_type": "execute_result"
    }
   ],
   "source": [
    "df1.isna().sum()"
   ]
  },
  {
   "cell_type": "markdown",
   "id": "ab9a7a63",
   "metadata": {},
   "source": [
    "Counting the null values lastly i was able to know that there is only one data that has null value in it , so let me use dropna function to remove the column"
   ]
  },
  {
   "cell_type": "code",
   "execution_count": 39,
   "id": "01b03fde",
   "metadata": {},
   "outputs": [],
   "source": [
    "df1 = df1.dropna()"
   ]
  },
  {
   "cell_type": "markdown",
   "id": "2d0ebdee",
   "metadata": {},
   "source": [
    "Finally let me merge both the dataset df1 and df2 together assigned to final_dataset "
   ]
  },
  {
   "cell_type": "code",
   "execution_count": 40,
   "id": "e8aac23f",
   "metadata": {},
   "outputs": [],
   "source": [
    "final_dataset = pd.merge(df1,df2,on=\"Year\")"
   ]
  },
  {
   "cell_type": "code",
   "execution_count": 41,
   "id": "019efe97",
   "metadata": {},
   "outputs": [
    {
     "data": {
      "text/html": [
       "<div>\n",
       "<style scoped>\n",
       "    .dataframe tbody tr th:only-of-type {\n",
       "        vertical-align: middle;\n",
       "    }\n",
       "\n",
       "    .dataframe tbody tr th {\n",
       "        vertical-align: top;\n",
       "    }\n",
       "\n",
       "    .dataframe thead th {\n",
       "        text-align: right;\n",
       "    }\n",
       "</style>\n",
       "<table border=\"1\" class=\"dataframe\">\n",
       "  <thead>\n",
       "    <tr style=\"text-align: right;\">\n",
       "      <th></th>\n",
       "      <th>State</th>\n",
       "      <th>District</th>\n",
       "      <th>Crop</th>\n",
       "      <th>Year</th>\n",
       "      <th>Season</th>\n",
       "      <th>Area</th>\n",
       "      <th>Area Units</th>\n",
       "      <th>Production</th>\n",
       "      <th>Production Units</th>\n",
       "      <th>Yield</th>\n",
       "      <th>Employment_Rate</th>\n",
       "    </tr>\n",
       "  </thead>\n",
       "  <tbody>\n",
       "    <tr>\n",
       "      <th>0</th>\n",
       "      <td>Andaman and Nicobar Islands</td>\n",
       "      <td>NICOBARS</td>\n",
       "      <td>Arecanut</td>\n",
       "      <td>2001</td>\n",
       "      <td>Kharif</td>\n",
       "      <td>1254.0</td>\n",
       "      <td>Hectare</td>\n",
       "      <td>2061.0</td>\n",
       "      <td>Tonnes</td>\n",
       "      <td>1.643541</td>\n",
       "      <td>59.08598</td>\n",
       "    </tr>\n",
       "    <tr>\n",
       "      <th>1</th>\n",
       "      <td>Andaman and Nicobar Islands</td>\n",
       "      <td>NORTH AND MIDDLE ANDAMAN</td>\n",
       "      <td>Arecanut</td>\n",
       "      <td>2001</td>\n",
       "      <td>Kharif</td>\n",
       "      <td>3100.0</td>\n",
       "      <td>Hectare</td>\n",
       "      <td>5239.0</td>\n",
       "      <td>Tonnes</td>\n",
       "      <td>1.690000</td>\n",
       "      <td>59.08598</td>\n",
       "    </tr>\n",
       "    <tr>\n",
       "      <th>2</th>\n",
       "      <td>Andaman and Nicobar Islands</td>\n",
       "      <td>NICOBARS</td>\n",
       "      <td>Cashewnut</td>\n",
       "      <td>2001</td>\n",
       "      <td>Whole Year</td>\n",
       "      <td>719.0</td>\n",
       "      <td>Hectare</td>\n",
       "      <td>192.0</td>\n",
       "      <td>Tonnes</td>\n",
       "      <td>0.267038</td>\n",
       "      <td>59.08598</td>\n",
       "    </tr>\n",
       "    <tr>\n",
       "      <th>3</th>\n",
       "      <td>Andaman and Nicobar Islands</td>\n",
       "      <td>NORTH AND MIDDLE ANDAMAN</td>\n",
       "      <td>Cashewnut</td>\n",
       "      <td>2001</td>\n",
       "      <td>Whole Year</td>\n",
       "      <td>81.0</td>\n",
       "      <td>Hectare</td>\n",
       "      <td>33.0</td>\n",
       "      <td>Tonnes</td>\n",
       "      <td>0.407407</td>\n",
       "      <td>59.08598</td>\n",
       "    </tr>\n",
       "    <tr>\n",
       "      <th>4</th>\n",
       "      <td>Andaman and Nicobar Islands</td>\n",
       "      <td>NICOBARS</td>\n",
       "      <td>Ginger</td>\n",
       "      <td>2001</td>\n",
       "      <td>Whole Year</td>\n",
       "      <td>46.0</td>\n",
       "      <td>Hectare</td>\n",
       "      <td>100.0</td>\n",
       "      <td>Tonnes</td>\n",
       "      <td>2.173913</td>\n",
       "      <td>59.08598</td>\n",
       "    </tr>\n",
       "  </tbody>\n",
       "</table>\n",
       "</div>"
      ],
      "text/plain": [
       "                         State                  District       Crop  Year  \\\n",
       "0  Andaman and Nicobar Islands                  NICOBARS   Arecanut  2001   \n",
       "1  Andaman and Nicobar Islands  NORTH AND MIDDLE ANDAMAN   Arecanut  2001   \n",
       "2  Andaman and Nicobar Islands                  NICOBARS  Cashewnut  2001   \n",
       "3  Andaman and Nicobar Islands  NORTH AND MIDDLE ANDAMAN  Cashewnut  2001   \n",
       "4  Andaman and Nicobar Islands                  NICOBARS     Ginger  2001   \n",
       "\n",
       "       Season    Area Area Units  Production Production Units     Yield  \\\n",
       "0      Kharif  1254.0    Hectare      2061.0           Tonnes  1.643541   \n",
       "1      Kharif  3100.0    Hectare      5239.0           Tonnes  1.690000   \n",
       "2  Whole Year   719.0    Hectare       192.0           Tonnes  0.267038   \n",
       "3  Whole Year    81.0    Hectare        33.0           Tonnes  0.407407   \n",
       "4  Whole Year    46.0    Hectare       100.0           Tonnes  2.173913   \n",
       "\n",
       "   Employment_Rate  \n",
       "0         59.08598  \n",
       "1         59.08598  \n",
       "2         59.08598  \n",
       "3         59.08598  \n",
       "4         59.08598  "
      ]
     },
     "execution_count": 41,
     "metadata": {},
     "output_type": "execute_result"
    }
   ],
   "source": [
    "final_dataset.head()"
   ]
  },
  {
   "cell_type": "markdown",
   "id": "547d600a",
   "metadata": {},
   "source": [
    "Let me check if there are any null values in the dataset and save it "
   ]
  },
  {
   "cell_type": "code",
   "execution_count": 42,
   "id": "01f0f2b4",
   "metadata": {},
   "outputs": [
    {
     "data": {
      "text/plain": [
       "State               0\n",
       "District            0\n",
       "Crop                0\n",
       "Year                0\n",
       "Season              0\n",
       "Area                0\n",
       "Area Units          0\n",
       "Production          0\n",
       "Production Units    0\n",
       "Yield               0\n",
       "Employment_Rate     0\n",
       "dtype: int64"
      ]
     },
     "execution_count": 42,
     "metadata": {},
     "output_type": "execute_result"
    }
   ],
   "source": [
    "final_dataset.isna().sum()"
   ]
  },
  {
   "cell_type": "markdown",
   "id": "16861bcb",
   "metadata": {},
   "source": [
    "No null values have been found now let me save the dataset in csv format"
   ]
  },
  {
   "cell_type": "code",
   "execution_count": 43,
   "id": "87ffc0b2",
   "metadata": {},
   "outputs": [],
   "source": [
    "final_dataset.to_excel('Agriculture_India_2/Agricultural_Analysis_Of_India.xlsx',index=False)"
   ]
  },
  {
   "cell_type": "markdown",
   "id": "7e0a5585",
   "metadata": {},
   "source": [
    "After the completion of cleaning the dataset ,i checked the name of states by that i was able to know that there is spelling mistake in ladakh and the daman and diu have been attached to each other so i retrieved it into a cleaned dataset using excel and converted it into csv file. "
   ]
  }
 ],
 "metadata": {
  "kernelspec": {
   "display_name": "Python 3 (ipykernel)",
   "language": "python",
   "name": "python3"
  },
  "language_info": {
   "codemirror_mode": {
    "name": "ipython",
    "version": 3
   },
   "file_extension": ".py",
   "mimetype": "text/x-python",
   "name": "python",
   "nbconvert_exporter": "python",
   "pygments_lexer": "ipython3",
   "version": "3.9.13"
  }
 },
 "nbformat": 4,
 "nbformat_minor": 5
}
